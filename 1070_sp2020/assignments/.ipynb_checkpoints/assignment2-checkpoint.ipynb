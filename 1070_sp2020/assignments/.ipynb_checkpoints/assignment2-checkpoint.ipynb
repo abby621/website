{
 "cells": [
  {
   "cell_type": "code",
   "execution_count": 1,
   "metadata": {},
   "outputs": [],
   "source": [
    "import pandas as pd\n",
    "import numpy as np"
   ]
  },
  {
   "cell_type": "code",
   "execution_count": 2,
   "metadata": {},
   "outputs": [],
   "source": [
    "def load_file(data_file,separator=None):\n",
    "    '''\n",
    "    A function to load data files into a pandas DataFrame object.\n",
    "    Inputs:\n",
    "    1. data_file (required): the path for a data file ending in 'xls', 'xslx', 'cxv' or 'txt'\n",
    "    2. separator (optional): the character(s) used to separator data in each row of the dataset\n",
    "    \n",
    "    Outputs:\n",
    "    1. A DataFrame object with the data in data_file.\n",
    "    '''\n",
    "    \n",
    "    # if data_file is an excel file, use the read_excel function\n",
    "    if data_file.endswith('.xls') or data_file.endswith('.xlsx'):\n",
    "        return pd.read_excel(data_file)\n",
    "    \n",
    "    # if the data_file is a .csv or .txt file, check if a separator was specified and load\n",
    "    elif data_file.endswith('.csv') or data_file.endswith('.txt'):\n",
    "        if separator:\n",
    "            return pd.read_csv(data_file,separator=separator)\n",
    "        else:\n",
    "            return pd.read_csv(data_file)\n",
    "        \n",
    "    # otherwise raise an exception stating that the filetype was unknown\n",
    "    else:\n",
    "        print(\"Unknown file type!\")\n",
    "        raise"
   ]
  },
  {
   "cell_type": "code",
   "execution_count": 3,
   "metadata": {},
   "outputs": [],
   "source": [
    "def find_duplicates_based_on_column(df,column):\n",
    "    '''\n",
    "    A function to determine which rows have duplicated data in the specified column.\n",
    "    \n",
    "    Inputs:\n",
    "    1. df (required): a DataFrame object\n",
    "    2. column (required): the name of the column that we're looking for duplicated in\n",
    "    \n",
    "    Outputs:\n",
    "    1. A numpy array that contains the unique duplicated values in the specified column\n",
    "    2. A boolean mask (numpy array) that has # of elements = # of rows in \n",
    "    the table where an element is True is the data in the specified column is dupicated,\n",
    "    and False if it's not\n",
    "    \n",
    "    '''\n",
    "    # determine how many times each ID in id_column appears\n",
    "    counts = df[column].value_counts()\n",
    "    \n",
    "    # create a boolean mask that is True when that id appears more than once\n",
    "    is_duplicate = counts > 1\n",
    "    \n",
    "    # get the actual index (the left side) for the places where id_is_duplicate is True\n",
    "    duplicates = counts.index[is_duplicate]\n",
    "    \n",
    "    # convert that to a numpy array\n",
    "    duplicates = np.array(duplicates)\n",
    "    \n",
    "    # also return an array that has # of elements = # of rows in the table\n",
    "    # where an element is True is the ID for that row is in the list\n",
    "    # of duplicate IDs, and False if it's not\n",
    "    duplicate_mask = np.array(df[column].isin(duplicates))\n",
    "    \n",
    "    return duplicates, duplicate_mask"
   ]
  },
  {
   "cell_type": "code",
   "execution_count": 4,
   "metadata": {},
   "outputs": [],
   "source": [
    "def remove_rows(df,boolean_mask):\n",
    "    '''\n",
    "    A function to remove rows.\n",
    "    \n",
    "    Inputs:\n",
    "    1. df (required): a DataFrame object\n",
    "    2. boolean_mask: a boolean mask that is True for rows that \n",
    "    should be deleted from the DataFrame and False for rows that\n",
    "    should remain\n",
    "    \n",
    "    Outputs:\n",
    "    1. A new DataFrame object w/ the specified rows removed.\n",
    "    '''\n",
    "\n",
    "    new_df = df.loc[boolean_mask,:].copy()\n",
    "    return new_df"
   ]
  },
  {
   "cell_type": "code",
   "execution_count": 6,
   "metadata": {},
   "outputs": [],
   "source": [
    "df = load_file('../data/credit_card_data.xls')\n",
    "duplicate_ids, duplicate_mask = find_duplicates_based_on_column(df,'ID')\n",
    "no_duplicate_df = remove_rows(df,~duplicate_mask)"
   ]
  },
  {
   "cell_type": "code",
   "execution_count": 44,
   "metadata": {},
   "outputs": [
    {
     "data": {
      "text/plain": [
       "0"
      ]
     },
     "execution_count": 44,
     "metadata": {},
     "output_type": "execute_result"
    }
   ],
   "source": [
    "new_duplicate_ids, new_duplicate_mask = find_duplicate_ids(no_duplicate_df,'ID')\n",
    "len(new_duplicate_ids)"
   ]
  },
  {
   "cell_type": "code",
   "execution_count": 45,
   "metadata": {},
   "outputs": [
    {
     "data": {
      "text/html": [
       "<div>\n",
       "<style scoped>\n",
       "    .dataframe tbody tr th:only-of-type {\n",
       "        vertical-align: middle;\n",
       "    }\n",
       "\n",
       "    .dataframe tbody tr th {\n",
       "        vertical-align: top;\n",
       "    }\n",
       "\n",
       "    .dataframe thead th {\n",
       "        text-align: right;\n",
       "    }\n",
       "</style>\n",
       "<table border=\"1\" class=\"dataframe\">\n",
       "  <thead>\n",
       "    <tr style=\"text-align: right;\">\n",
       "      <th></th>\n",
       "      <th>ID</th>\n",
       "      <th>LIMIT_BAL</th>\n",
       "      <th>SEX</th>\n",
       "      <th>EDUCATION</th>\n",
       "      <th>MARRIAGE</th>\n",
       "      <th>AGE</th>\n",
       "      <th>PAY_1</th>\n",
       "      <th>PAY_2</th>\n",
       "      <th>PAY_3</th>\n",
       "      <th>PAY_4</th>\n",
       "      <th>...</th>\n",
       "      <th>BILL_AMT4</th>\n",
       "      <th>BILL_AMT5</th>\n",
       "      <th>BILL_AMT6</th>\n",
       "      <th>PAY_AMT1</th>\n",
       "      <th>PAY_AMT2</th>\n",
       "      <th>PAY_AMT3</th>\n",
       "      <th>PAY_AMT4</th>\n",
       "      <th>PAY_AMT5</th>\n",
       "      <th>PAY_AMT6</th>\n",
       "      <th>default payment next month</th>\n",
       "    </tr>\n",
       "  </thead>\n",
       "  <tbody>\n",
       "    <tr>\n",
       "      <td>0</td>\n",
       "      <td>798fc410-45c1</td>\n",
       "      <td>20000</td>\n",
       "      <td>2</td>\n",
       "      <td>2</td>\n",
       "      <td>1</td>\n",
       "      <td>24</td>\n",
       "      <td>2</td>\n",
       "      <td>2</td>\n",
       "      <td>-1</td>\n",
       "      <td>-1</td>\n",
       "      <td>...</td>\n",
       "      <td>0</td>\n",
       "      <td>0</td>\n",
       "      <td>0</td>\n",
       "      <td>0</td>\n",
       "      <td>689</td>\n",
       "      <td>0</td>\n",
       "      <td>0</td>\n",
       "      <td>0</td>\n",
       "      <td>0</td>\n",
       "      <td>1</td>\n",
       "    </tr>\n",
       "    <tr>\n",
       "      <td>1</td>\n",
       "      <td>8a8c8f3b-8eb4</td>\n",
       "      <td>120000</td>\n",
       "      <td>2</td>\n",
       "      <td>2</td>\n",
       "      <td>2</td>\n",
       "      <td>26</td>\n",
       "      <td>-1</td>\n",
       "      <td>2</td>\n",
       "      <td>0</td>\n",
       "      <td>0</td>\n",
       "      <td>...</td>\n",
       "      <td>3272</td>\n",
       "      <td>3455</td>\n",
       "      <td>3261</td>\n",
       "      <td>0</td>\n",
       "      <td>1000</td>\n",
       "      <td>1000</td>\n",
       "      <td>1000</td>\n",
       "      <td>0</td>\n",
       "      <td>2000</td>\n",
       "      <td>1</td>\n",
       "    </tr>\n",
       "    <tr>\n",
       "      <td>2</td>\n",
       "      <td>85698822-43f5</td>\n",
       "      <td>90000</td>\n",
       "      <td>2</td>\n",
       "      <td>2</td>\n",
       "      <td>2</td>\n",
       "      <td>34</td>\n",
       "      <td>0</td>\n",
       "      <td>0</td>\n",
       "      <td>0</td>\n",
       "      <td>0</td>\n",
       "      <td>...</td>\n",
       "      <td>14331</td>\n",
       "      <td>14948</td>\n",
       "      <td>15549</td>\n",
       "      <td>1518</td>\n",
       "      <td>1500</td>\n",
       "      <td>1000</td>\n",
       "      <td>1000</td>\n",
       "      <td>1000</td>\n",
       "      <td>5000</td>\n",
       "      <td>0</td>\n",
       "    </tr>\n",
       "    <tr>\n",
       "      <td>3</td>\n",
       "      <td>0737c11b-be42</td>\n",
       "      <td>50000</td>\n",
       "      <td>2</td>\n",
       "      <td>2</td>\n",
       "      <td>1</td>\n",
       "      <td>37</td>\n",
       "      <td>0</td>\n",
       "      <td>0</td>\n",
       "      <td>0</td>\n",
       "      <td>0</td>\n",
       "      <td>...</td>\n",
       "      <td>28314</td>\n",
       "      <td>28959</td>\n",
       "      <td>29547</td>\n",
       "      <td>2000</td>\n",
       "      <td>2019</td>\n",
       "      <td>1200</td>\n",
       "      <td>1100</td>\n",
       "      <td>1069</td>\n",
       "      <td>1000</td>\n",
       "      <td>0</td>\n",
       "    </tr>\n",
       "    <tr>\n",
       "      <td>4</td>\n",
       "      <td>3b7f77cc-dbc0</td>\n",
       "      <td>50000</td>\n",
       "      <td>1</td>\n",
       "      <td>2</td>\n",
       "      <td>1</td>\n",
       "      <td>57</td>\n",
       "      <td>-1</td>\n",
       "      <td>0</td>\n",
       "      <td>-1</td>\n",
       "      <td>0</td>\n",
       "      <td>...</td>\n",
       "      <td>20940</td>\n",
       "      <td>19146</td>\n",
       "      <td>19131</td>\n",
       "      <td>2000</td>\n",
       "      <td>36681</td>\n",
       "      <td>10000</td>\n",
       "      <td>9000</td>\n",
       "      <td>689</td>\n",
       "      <td>679</td>\n",
       "      <td>0</td>\n",
       "    </tr>\n",
       "  </tbody>\n",
       "</table>\n",
       "<p>5 rows × 25 columns</p>\n",
       "</div>"
      ],
      "text/plain": [
       "              ID  LIMIT_BAL  SEX  EDUCATION  MARRIAGE  AGE PAY_1  PAY_2  \\\n",
       "0  798fc410-45c1      20000    2          2         1   24     2      2   \n",
       "1  8a8c8f3b-8eb4     120000    2          2         2   26    -1      2   \n",
       "2  85698822-43f5      90000    2          2         2   34     0      0   \n",
       "3  0737c11b-be42      50000    2          2         1   37     0      0   \n",
       "4  3b7f77cc-dbc0      50000    1          2         1   57    -1      0   \n",
       "\n",
       "   PAY_3  PAY_4  ...  BILL_AMT4  BILL_AMT5  BILL_AMT6  PAY_AMT1  PAY_AMT2  \\\n",
       "0     -1     -1  ...          0          0          0         0       689   \n",
       "1      0      0  ...       3272       3455       3261         0      1000   \n",
       "2      0      0  ...      14331      14948      15549      1518      1500   \n",
       "3      0      0  ...      28314      28959      29547      2000      2019   \n",
       "4     -1      0  ...      20940      19146      19131      2000     36681   \n",
       "\n",
       "   PAY_AMT3  PAY_AMT4  PAY_AMT5  PAY_AMT6  default payment next month  \n",
       "0         0         0         0         0                           1  \n",
       "1      1000      1000         0      2000                           1  \n",
       "2      1000      1000      1000      5000                           0  \n",
       "3      1200      1100      1069      1000                           0  \n",
       "4     10000      9000       689       679                           0  \n",
       "\n",
       "[5 rows x 25 columns]"
      ]
     },
     "execution_count": 45,
     "metadata": {},
     "output_type": "execute_result"
    }
   ],
   "source": [
    "no_duplicate_df.head()"
   ]
  },
  {
   "cell_type": "code",
   "execution_count": 46,
   "metadata": {},
   "outputs": [],
   "source": [
    "def find_rows_with_bad_data(df,bad_value,specific_column=None):\n",
    "    '''\n",
    "    A function to determine which rows have bad values.\n",
    "    \n",
    "    Inputs:\n",
    "    1. df (required): a DataFrame object\n",
    "    2. bad_value (required): a problematic data value\n",
    "    3. specific_column (optional): only identify rows that contain the bad value in the column w/ this name\n",
    "    \n",
    "    Outputs:\n",
    "    1. A boolean mask (numpy array) that has # of elements = # of rows in \n",
    "    the table where an element is True if that row contains to bad_value\n",
    "    and False if it does not\n",
    "    \n",
    "    '''\n",
    "    if specific_column and not specific_column in df.columns:\n",
    "        print(\"Column does not exist in the DataFrame!\")\n",
    "        raise\n",
    "    \n",
    "    if specific_column:\n",
    "        sum_of_bad = df[specific_column] == bad_value\n",
    "    else:\n",
    "        equal_to_bad = df == bad_value\n",
    "        sum_of_bad = equal_to_bad.sum(axis=1)\n",
    "    \n",
    "    bad_row_mask = np.array(sum_of_bad>0)\n",
    "    return bad_row_mask"
   ]
  },
  {
   "cell_type": "markdown",
   "metadata": {},
   "source": [
    "# Homework 2:\n",
    "\n",
    "1. [5pts] Read the find_rows_with_bad_data code and add comments to the code that explain what is happening on each line of code. (examples of code comments can be found in the load_file and find_duplicates_based_on_column methods)"
   ]
  },
  {
   "cell_type": "markdown",
   "metadata": {},
   "source": [
    "2. [5pts] Use the find_rows_with_bad_data and remove_rows methods to create a new DataFrame without any rows that contain -2, 0, or 'Not Available' in any column."
   ]
  },
  {
   "cell_type": "code",
   "execution_count": null,
   "metadata": {},
   "outputs": [],
   "source": [
    "# YOUR CODE FOR QUESTION 2 GOES HERE"
   ]
  },
  {
   "cell_type": "markdown",
   "metadata": {},
   "source": [
    "3. [2pts] How many rows did you remove in (1) ?"
   ]
  },
  {
   "cell_type": "code",
   "execution_count": null,
   "metadata": {},
   "outputs": [],
   "source": [
    "rows_removed = # YOUR CODE FOR QUESTION 3 GOES HERE\n",
    "rows_removed"
   ]
  },
  {
   "cell_type": "markdown",
   "metadata": {},
   "source": [
    "4. [10pts] find_rows_with_bad_data takes in an optional parameter: 'specific_column' -- if this parameter is passed in, the code will only check if the bad value exists in that row.\n",
    "\n",
    "Create three new DataFrames:\n",
    "* A DataFrame that contains no values of -2 in the column 'PAY_1'\n",
    "* A DataFrame that contains no values of 0 in the column 'PAY_2'\n",
    "* A DataFrame that contains no values of 'Not Available' in the column"
   ]
  },
  {
   "cell_type": "code",
   "execution_count": null,
   "metadata": {},
   "outputs": [],
   "source": [
    "# YOUR CODE FOR QUESTION 4 GOES HERE"
   ]
  },
  {
   "cell_type": "markdown",
   "metadata": {},
   "source": [
    "5. [5pts] Download the 'movies.csv' file to your CS1070 directory. Open the data (in a TextEditor or Spreadsheet editor or browser -- however you want) and look through it. Load the movies data in and remove any movies with duplicated names.\n"
   ]
  },
  {
   "cell_type": "code",
   "execution_count": null,
   "metadata": {},
   "outputs": [],
   "source": [
    "# YOUR CODE FOR QUESTION 5 GOES HERE"
   ]
  },
  {
   "cell_type": "markdown",
   "metadata": {},
   "source": [
    "6. [5pts] Create a new DataFrame that contains all of the information for movies that __aren't__ comedies."
   ]
  },
  {
   "cell_type": "code",
   "execution_count": 40,
   "metadata": {},
   "outputs": [],
   "source": [
    "# YOUR CODE FOR QUESTION 6 HERE"
   ]
  },
  {
   "cell_type": "markdown",
   "metadata": {},
   "source": [
    "## Download this iPython notebook (.ipynb) and submit it under Assignment 2 on Moodle."
   ]
  }
 ],
 "metadata": {
  "kernelspec": {
   "display_name": "Python 3",
   "language": "python",
   "name": "python3"
  },
  "language_info": {
   "codemirror_mode": {
    "name": "ipython",
    "version": 3
   },
   "file_extension": ".py",
   "mimetype": "text/x-python",
   "name": "python",
   "nbconvert_exporter": "python",
   "pygments_lexer": "ipython3",
   "version": "3.7.4"
  }
 },
 "nbformat": 4,
 "nbformat_minor": 2
}

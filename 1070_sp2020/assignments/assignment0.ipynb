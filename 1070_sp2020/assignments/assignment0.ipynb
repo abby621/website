{
 "cells": [
  {
   "cell_type": "markdown",
   "metadata": {},
   "source": [
    "# Assignment 0 - Getting Started with Python Basics\n",
    "\n",
    "We will start this assignment in class on January 16. The purpose of this assignment is for you to get familiar with running Jupyter notebooks and a little bit of Python coding. We will dive into more complex Python next week.\n",
    "\n",
    "It will be due via Moodle by 10:59AM on Tuesday, January 21st. (note: due to Blackboard issues, grading and assignments will be handled on Moodle instead)\n",
    "\n",
    "To submit, you will download this file and a Notebook (File --> Downlaod as --> Notebook (.ipynb)) and then upload via Moodle."
   ]
  },
  {
   "cell_type": "markdown",
   "metadata": {},
   "source": [
    "## Q1: Create a variable named \"my_name\" and assign a string with your name to that variable. Execute the cell so that the variable my_name is printed out."
   ]
  },
  {
   "cell_type": "code",
   "execution_count": null,
   "metadata": {},
   "outputs": [],
   "source": [
    "# this box is a code 'cell'\n",
    "my_name = \"\"\n",
    "print(my_name)"
   ]
  },
  {
   "cell_type": "markdown",
   "metadata": {},
   "source": [
    "Run the following cell by clicking control + enter. This output should be 12."
   ]
  },
  {
   "cell_type": "code",
   "execution_count": null,
   "metadata": {},
   "outputs": [],
   "source": [
    "6 * 2"
   ]
  },
  {
   "cell_type": "markdown",
   "metadata": {},
   "source": [
    "Note that the extra spaces are added to make the code more readable.\n",
    "\n",
    "2 * 3 works just as well as 2*3.\n",
    "\n",
    "When you're programming, you will want to store your values in variables, like this:"
   ]
  },
  {
   "cell_type": "code",
   "execution_count": null,
   "metadata": {},
   "outputs": [],
   "source": [
    "a = 6\n",
    "b = 2\n",
    "a * b"
   ]
  },
  {
   "cell_type": "markdown",
   "metadata": {},
   "source": [
    "Both a and b are now variables.\n",
    "\n",
    "Each variable has a type.\n",
    "\n",
    "In this case, they are both integers (whole numbers). To write the value of a variable to the screen, use the print function (the last statement of a code cell is automatically printed to the screen if it is not stored in a variable, as was shown above)"
   ]
  },
  {
   "cell_type": "code",
   "execution_count": null,
   "metadata": {},
   "outputs": [],
   "source": [
    "print(a)\n",
    "print(b)\n",
    "print(a * b)\n",
    "print(a / b)"
   ]
  },
  {
   "cell_type": "markdown",
   "metadata": {},
   "source": [
    "You can add some text to the print function by putting the text between quotes (either single or double quotes work as long as you use the same at the beginning and end), and separate the text string and the variable by a comma"
   ]
  },
  {
   "cell_type": "code",
   "execution_count": null,
   "metadata": {},
   "outputs": [],
   "source": [
    "print('the value of a is', a)"
   ]
  },
  {
   "cell_type": "markdown",
   "metadata": {},
   "source": [
    "A variable can be raised to a power by using ** (a hat ^, as used in some other languages, doesn't work)"
   ]
  },
  {
   "cell_type": "code",
   "execution_count": null,
   "metadata": {},
   "outputs": [],
   "source": [
    "a ** b"
   ]
  },
  {
   "cell_type": "markdown",
   "metadata": {},
   "source": [
    "## Q2: A bit more complex Python\n",
    "\n",
    "The following is the equation for a polynomial:\n",
    "\n",
    "$y = ax^2 + bx + c$\n",
    "\n",
    "In the next cell, write the code that computes the values of this equation at:\n",
    "\n",
    "$x = -2$\n",
    "$x = 0$\n",
    "$x = 2$\n",
    "\n",
    "when $a = 1$, $b = 1$, and $c=-6$.\n",
    "\n",
    "Print the results on the screen."
   ]
  },
  {
   "cell_type": "code",
   "execution_count": null,
   "metadata": {},
   "outputs": [],
   "source": [
    "# write your code for Q2 here"
   ]
  },
  {
   "cell_type": "markdown",
   "metadata": {},
   "source": [
    "# Don't forget to download and submit!"
   ]
  }
 ],
 "metadata": {
  "kernelspec": {
   "display_name": "Python 3",
   "language": "python",
   "name": "python3"
  },
  "language_info": {
   "codemirror_mode": {
    "name": "ipython",
    "version": 3
   },
   "file_extension": ".py",
   "mimetype": "text/x-python",
   "name": "python",
   "nbconvert_exporter": "python",
   "pygments_lexer": "ipython3",
   "version": "3.7.4"
  }
 },
 "nbformat": 4,
 "nbformat_minor": 2
}

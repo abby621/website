{
 "cells": [
  {
   "cell_type": "code",
   "execution_count": 1,
   "metadata": {},
   "outputs": [
    {
     "name": "stdout",
     "output_type": "stream",
     "text": [
      "['C', 'S', 'C', 'I']\n",
      "['1', '0', '7', '0']\n"
     ]
    }
   ],
   "source": [
    "letters = []\n",
    "digits = []\n",
    "\n",
    "for character in 'CSCI1070':\n",
    "    if character.isdigit():\n",
    "        digits.append(character)\n",
    "    else:\n",
    "        letters.append(character)\n",
    "\n",
    "print(letters)\n",
    "print(digits)"
   ]
  },
  {
   "cell_type": "code",
   "execution_count": 2,
   "metadata": {},
   "outputs": [
    {
     "name": "stdout",
     "output_type": "stream",
     "text": [
      "S\n",
      "I\n"
     ]
    }
   ],
   "source": [
    "for character in 'CSCI1070':\n",
    "    if character == 'C' or character.isdigit():\n",
    "        continue\n",
    "    else:\n",
    "        print(character)"
   ]
  },
  {
   "cell_type": "code",
   "execution_count": 3,
   "metadata": {},
   "outputs": [
    {
     "name": "stdout",
     "output_type": "stream",
     "text": [
      "C\n",
      "S\n",
      "C\n"
     ]
    }
   ],
   "source": [
    "my_string = 'castle'\n",
    "\n",
    "for character in 'CSCI1070':\n",
    "    if character.lower() in my_string and not character.isdigit():\n",
    "        print(character)\n",
    "    else:\n",
    "        break"
   ]
  },
  {
   "cell_type": "code",
   "execution_count": null,
   "metadata": {},
   "outputs": [],
   "source": []
  },
  {
   "cell_type": "code",
   "execution_count": null,
   "metadata": {},
   "outputs": [],
   "source": []
  },
  {
   "cell_type": "code",
   "execution_count": null,
   "metadata": {},
   "outputs": [],
   "source": []
  },
  {
   "cell_type": "code",
   "execution_count": null,
   "metadata": {},
   "outputs": [],
   "source": []
  }
 ],
 "metadata": {
  "kernelspec": {
   "display_name": "Python 2",
   "language": "python",
   "name": "python2"
  },
  "language_info": {
   "codemirror_mode": {
    "name": "ipython",
    "version": 2
   },
   "file_extension": ".py",
   "mimetype": "text/x-python",
   "name": "python",
   "nbconvert_exporter": "python",
   "pygments_lexer": "ipython2",
   "version": "2.7.17"
  }
 },
 "nbformat": 4,
 "nbformat_minor": 2
}
